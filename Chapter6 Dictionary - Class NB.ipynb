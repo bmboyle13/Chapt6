{
 "cells": [
  {
   "cell_type": "markdown",
   "id": "73943399",
   "metadata": {},
   "source": [
    "# 6. Working with Dictionaries\n",
    "* A dictionary in Python is a collection of key-value pairs. \n",
    "* Each key is connected to a value, and you can use a key to access the value associated with that key.\n",
    "* A key’s value can be a number, a string, a list, or even another dictionary.\n",
    "\n",
    "* `Key` is the unique identifier to find data and the `value` is the data\n",
    "\n",
    "* A dictionary is a collection which is ordered*, changeable and does not allow duplicates.\n",
    "\n",
    "* Unlike strings, lists, and tuples, **dictionaries are not sequences** - the data are not stored in order. \n",
    "* List can be represented by [ ], Tuple can be represented by ( ), Dictionary  can be represented by { }"
   ]
  },
  {
   "cell_type": "code",
   "execution_count": 7,
   "id": "05999d3a",
   "metadata": {},
   "outputs": [
    {
     "data": {
      "text/plain": [
       "dict"
      ]
     },
     "execution_count": 7,
     "metadata": {},
     "output_type": "execute_result"
    }
   ],
   "source": [
    "data={} #empty dictionary\n",
    "type(data)"
   ]
  },
  {
   "cell_type": "code",
   "execution_count": 8,
   "id": "88e3e9ba",
   "metadata": {},
   "outputs": [],
   "source": [
    "data1=dict() #empty dictionary"
   ]
  },
  {
   "cell_type": "code",
   "execution_count": 9,
   "id": "5d25b2cb",
   "metadata": {},
   "outputs": [],
   "source": [
    "data={'Alabama': 'Montgomery',\n",
    "     'Arizona' : 'Pheonix',\n",
    "     'Georgia': 'Atlanta',\n",
    "     'Kentucky' : 'Frankfort',\n",
    "     'Ohio' : \"Salem\"}"
   ]
  },
  {
   "cell_type": "code",
   "execution_count": null,
   "id": "43d5e82d",
   "metadata": {},
   "outputs": [],
   "source": []
  },
  {
   "cell_type": "markdown",
   "id": "4be8c616",
   "metadata": {},
   "source": [
    "### Access `values` from a dictionary using key\n",
    "* Key and values can be any data types\n",
    "* Accessing key value not present in dictionary generated KeyError"
   ]
  },
  {
   "cell_type": "code",
   "execution_count": 10,
   "id": "aab3f949",
   "metadata": {},
   "outputs": [
    {
     "data": {
      "text/plain": [
       "{'Alabama': 'Montgomery',\n",
       " 'Arizona': 'Pheonix',\n",
       " 'Georgia': 'Atlanta',\n",
       " 'Kentucky': 'Frankfort',\n",
       " 'Ohio': 'Salem'}"
      ]
     },
     "execution_count": 10,
     "metadata": {},
     "output_type": "execute_result"
    }
   ],
   "source": [
    "data"
   ]
  },
  {
   "cell_type": "code",
   "execution_count": 11,
   "id": "fe9e3886",
   "metadata": {},
   "outputs": [
    {
     "data": {
      "text/plain": [
       "'Montgomery'"
      ]
     },
     "execution_count": 11,
     "metadata": {},
     "output_type": "execute_result"
    }
   ],
   "source": [
    "data['Alabama']"
   ]
  },
  {
   "cell_type": "code",
   "execution_count": 12,
   "id": "e4eb565d",
   "metadata": {},
   "outputs": [
    {
     "ename": "KeyError",
     "evalue": "'Louisiana'",
     "output_type": "error",
     "traceback": [
      "\u001b[0;31m---------------------------------------------------------------------------\u001b[0m",
      "\u001b[0;31mKeyError\u001b[0m                                  Traceback (most recent call last)",
      "\u001b[0;32m/var/folders/5n/xr01gjrn7rv5gs_sjffmxmzc0000gn/T/ipykernel_8601/2583610805.py\u001b[0m in \u001b[0;36m<module>\u001b[0;34m\u001b[0m\n\u001b[0;32m----> 1\u001b[0;31m \u001b[0mdata\u001b[0m\u001b[0;34m[\u001b[0m\u001b[0;34m'Louisiana'\u001b[0m\u001b[0;34m]\u001b[0m\u001b[0;34m\u001b[0m\u001b[0;34m\u001b[0m\u001b[0m\n\u001b[0m",
      "\u001b[0;31mKeyError\u001b[0m: 'Louisiana'"
     ]
    }
   ],
   "source": [
    "data['Louisiana']"
   ]
  },
  {
   "cell_type": "code",
   "execution_count": null,
   "id": "c7dae653",
   "metadata": {},
   "outputs": [],
   "source": []
  },
  {
   "cell_type": "markdown",
   "id": "bc6af6fc",
   "metadata": {},
   "source": [
    "### Update elements of a dictionary and add new elements"
   ]
  },
  {
   "cell_type": "code",
   "execution_count": 13,
   "id": "f62f227f",
   "metadata": {},
   "outputs": [],
   "source": [
    "day={1: 'Monday',\n",
    "    2:'Tuesday',\n",
    "    4:['Thursday','Friday'],\n",
    "    5:('Saturday','Sunday')}"
   ]
  },
  {
   "cell_type": "code",
   "execution_count": 14,
   "id": "560dd19f",
   "metadata": {},
   "outputs": [
    {
     "data": {
      "text/plain": [
       "'Monday'"
      ]
     },
     "execution_count": 14,
     "metadata": {},
     "output_type": "execute_result"
    }
   ],
   "source": [
    "day[1]"
   ]
  },
  {
   "cell_type": "code",
   "execution_count": 15,
   "id": "7f07b100",
   "metadata": {},
   "outputs": [
    {
     "data": {
      "text/plain": [
       "'Friday'"
      ]
     },
     "execution_count": 15,
     "metadata": {},
     "output_type": "execute_result"
    }
   ],
   "source": [
    "day[4][1]  #[key],[index]"
   ]
  },
  {
   "cell_type": "code",
   "execution_count": 16,
   "id": "e30ad316",
   "metadata": {},
   "outputs": [
    {
     "data": {
      "text/plain": [
       "'Saturday'"
      ]
     },
     "execution_count": 16,
     "metadata": {},
     "output_type": "execute_result"
    }
   ],
   "source": [
    "day[5][0]"
   ]
  },
  {
   "cell_type": "markdown",
   "id": "145caf67",
   "metadata": {},
   "source": [
    "#### Update values as key is unique and immutable, value is mutable"
   ]
  },
  {
   "cell_type": "code",
   "execution_count": 17,
   "id": "914fe326",
   "metadata": {},
   "outputs": [
    {
     "ename": "TypeError",
     "evalue": "'tuple' object does not support item assignment",
     "output_type": "error",
     "traceback": [
      "\u001b[0;31m---------------------------------------------------------------------------\u001b[0m",
      "\u001b[0;31mTypeError\u001b[0m                                 Traceback (most recent call last)",
      "\u001b[0;32m/var/folders/5n/xr01gjrn7rv5gs_sjffmxmzc0000gn/T/ipykernel_8601/2639262418.py\u001b[0m in \u001b[0;36m<module>\u001b[0;34m\u001b[0m\n\u001b[1;32m      1\u001b[0m \u001b[0;31m#update sunday to holiday\u001b[0m\u001b[0;34m\u001b[0m\u001b[0;34m\u001b[0m\u001b[0m\n\u001b[0;32m----> 2\u001b[0;31m \u001b[0mday\u001b[0m\u001b[0;34m[\u001b[0m\u001b[0;36m5\u001b[0m\u001b[0;34m]\u001b[0m\u001b[0;34m[\u001b[0m\u001b[0;36m1\u001b[0m\u001b[0;34m]\u001b[0m\u001b[0;34m=\u001b[0m\u001b[0;34m'Holiday'\u001b[0m \u001b[0;31m#tuple update not possible\u001b[0m\u001b[0;34m\u001b[0m\u001b[0;34m\u001b[0m\u001b[0m\n\u001b[0m",
      "\u001b[0;31mTypeError\u001b[0m: 'tuple' object does not support item assignment"
     ]
    }
   ],
   "source": [
    "#update sunday to holiday\n",
    "day[5][1]='Holiday' #tuple update not possible"
   ]
  },
  {
   "cell_type": "code",
   "execution_count": 18,
   "id": "6a33e971",
   "metadata": {},
   "outputs": [
    {
     "name": "stdout",
     "output_type": "stream",
     "text": [
      "{1: 'Monday', 2: 'Tuesday', 4: ['Holiday', 'Friday'], 5: ('Saturday', 'Sunday')}\n"
     ]
    }
   ],
   "source": [
    "#update thursday to holiday\n",
    "day[4][0]='Holiday'\n",
    "print(day)"
   ]
  },
  {
   "cell_type": "code",
   "execution_count": 19,
   "id": "c79308df",
   "metadata": {},
   "outputs": [
    {
     "data": {
      "text/plain": [
       "{1: 'Holiday',\n",
       " 2: 'Tuesday',\n",
       " 4: ['Holiday', 'Friday'],\n",
       " 5: ('Saturday', 'Sunday')}"
      ]
     },
     "execution_count": 19,
     "metadata": {},
     "output_type": "execute_result"
    }
   ],
   "source": [
    "#update monday to holiday\n",
    "day[1]='Holiday'\n",
    "day"
   ]
  },
  {
   "cell_type": "code",
   "execution_count": null,
   "id": "f72373b8",
   "metadata": {},
   "outputs": [],
   "source": []
  },
  {
   "cell_type": "code",
   "execution_count": null,
   "id": "56b41c12",
   "metadata": {},
   "outputs": [],
   "source": []
  },
  {
   "cell_type": "markdown",
   "id": "f7bb990f",
   "metadata": {},
   "source": [
    "### `get` and `update` methods"
   ]
  },
  {
   "cell_type": "code",
   "execution_count": 20,
   "id": "071c6f12",
   "metadata": {},
   "outputs": [
    {
     "data": {
      "text/plain": [
       "{'Alabama': 'Montgomery',\n",
       " 'Arizona': 'Pheonix',\n",
       " 'Georgia': 'Atlanta',\n",
       " 'Kentucky': 'Frankfort',\n",
       " 'Ohio': 'Salem'}"
      ]
     },
     "execution_count": 20,
     "metadata": {},
     "output_type": "execute_result"
    }
   ],
   "source": [
    "data"
   ]
  },
  {
   "cell_type": "code",
   "execution_count": 21,
   "id": "10cd3add",
   "metadata": {},
   "outputs": [
    {
     "data": {
      "text/plain": [
       "'Pheonix'"
      ]
     },
     "execution_count": 21,
     "metadata": {},
     "output_type": "execute_result"
    }
   ],
   "source": [
    "data.get('Arizona') #.get looks for the key to return the value"
   ]
  },
  {
   "cell_type": "code",
   "execution_count": 22,
   "id": "afdf81cb",
   "metadata": {},
   "outputs": [],
   "source": [
    "data.get('Louisiana')# doesnt generate an error - thats how its differnt from access an element by key"
   ]
  },
  {
   "cell_type": "code",
   "execution_count": 23,
   "id": "c99acf1a",
   "metadata": {},
   "outputs": [
    {
     "data": {
      "text/plain": [
       "{'Alabama': 'Montgomery',\n",
       " 'Arizona': 'Pheonix',\n",
       " 'Georgia': 'Atlanta',\n",
       " 'Kentucky': 'Louisville',\n",
       " 'Ohio': 'Salem',\n",
       " 'Louisiana': 'Baton Rouge'}"
      ]
     },
     "execution_count": 23,
     "metadata": {},
     "output_type": "execute_result"
    }
   ],
   "source": [
    "#update old value to new and add new key value pair\n",
    "data.update({'Kentucky':'Louisville', 'Louisiana':'Baton Rouge'})\n",
    "data"
   ]
  },
  {
   "cell_type": "code",
   "execution_count": 24,
   "id": "4032186c",
   "metadata": {},
   "outputs": [
    {
     "data": {
      "text/plain": [
       "{'Alabama': 'Montgomery',\n",
       " 'Arizona': 'Pheonix',\n",
       " 'Georgia': 'Atlanta',\n",
       " 'Kentucky': 'Louisville',\n",
       " 'Ohio': 'Salem',\n",
       " 'Louisiana': 'Baton Rouge',\n",
       " 'alabama': 'Montgomery'}"
      ]
     },
     "execution_count": 24,
     "metadata": {},
     "output_type": "execute_result"
    }
   ],
   "source": [
    "data.update({'alabama':'Montgomery'}) #only way to update key\n",
    "data"
   ]
  },
  {
   "cell_type": "markdown",
   "id": "18536626",
   "metadata": {},
   "source": [
    "### Delete dictionary items using `del` and `pop`"
   ]
  },
  {
   "cell_type": "code",
   "execution_count": 25,
   "id": "ebc3b904",
   "metadata": {},
   "outputs": [
    {
     "data": {
      "text/plain": [
       "{'Alabama': 'Montgomery',\n",
       " 'Arizona': 'Pheonix',\n",
       " 'Georgia': 'Atlanta',\n",
       " 'Kentucky': 'Louisville',\n",
       " 'Ohio': 'Salem',\n",
       " 'Louisiana': 'Baton Rouge',\n",
       " 'alabama': 'Montgomery'}"
      ]
     },
     "execution_count": 25,
     "metadata": {},
     "output_type": "execute_result"
    }
   ],
   "source": [
    "data"
   ]
  },
  {
   "cell_type": "code",
   "execution_count": 26,
   "id": "e3993e4c",
   "metadata": {},
   "outputs": [],
   "source": [
    "del data['Alabama']"
   ]
  },
  {
   "cell_type": "code",
   "execution_count": 27,
   "id": "c9f34436",
   "metadata": {},
   "outputs": [
    {
     "name": "stdout",
     "output_type": "stream",
     "text": [
      "Deleted state Pheonix\n"
     ]
    }
   ],
   "source": [
    "deleted_state=data.pop('Arizona')\n",
    "print(\"Deleted state\", deleted_state)"
   ]
  },
  {
   "cell_type": "code",
   "execution_count": 28,
   "id": "7c402180",
   "metadata": {},
   "outputs": [
    {
     "data": {
      "text/plain": [
       "{'Georgia': 'Atlanta',\n",
       " 'Kentucky': 'Louisville',\n",
       " 'Ohio': 'Salem',\n",
       " 'Louisiana': 'Baton Rouge',\n",
       " 'alabama': 'Montgomery'}"
      ]
     },
     "execution_count": 28,
     "metadata": {},
     "output_type": "execute_result"
    }
   ],
   "source": [
    "data"
   ]
  },
  {
   "cell_type": "code",
   "execution_count": 29,
   "id": "24ffd451",
   "metadata": {},
   "outputs": [
    {
     "name": "stdout",
     "output_type": "stream",
     "text": [
      "Montgomery\n"
     ]
    },
    {
     "data": {
      "text/plain": [
       "{'Georgia': 'Atlanta',\n",
       " 'Kentucky': 'Louisville',\n",
       " 'Ohio': 'Salem',\n",
       " 'Louisiana': 'Baton Rouge'}"
      ]
     },
     "execution_count": 29,
     "metadata": {},
     "output_type": "execute_result"
    }
   ],
   "source": [
    "#delete montgomery\n",
    "deleted_capital=data.pop('alabama')\n",
    "print(deleted_capital)\n",
    "data"
   ]
  },
  {
   "cell_type": "code",
   "execution_count": 30,
   "id": "aa678779",
   "metadata": {},
   "outputs": [],
   "source": [
    "del data #deletes entire dict, to keep it use pop"
   ]
  },
  {
   "cell_type": "code",
   "execution_count": 31,
   "id": "f6b3e853",
   "metadata": {},
   "outputs": [
    {
     "ename": "NameError",
     "evalue": "name 'data' is not defined",
     "output_type": "error",
     "traceback": [
      "\u001b[0;31m---------------------------------------------------------------------------\u001b[0m",
      "\u001b[0;31mNameError\u001b[0m                                 Traceback (most recent call last)",
      "\u001b[0;32m/var/folders/5n/xr01gjrn7rv5gs_sjffmxmzc0000gn/T/ipykernel_8601/391604064.py\u001b[0m in \u001b[0;36m<module>\u001b[0;34m\u001b[0m\n\u001b[0;32m----> 1\u001b[0;31m \u001b[0mdata\u001b[0m\u001b[0;34m\u001b[0m\u001b[0;34m\u001b[0m\u001b[0m\n\u001b[0m",
      "\u001b[0;31mNameError\u001b[0m: name 'data' is not defined"
     ]
    }
   ],
   "source": [
    "data"
   ]
  },
  {
   "cell_type": "markdown",
   "id": "610aae76",
   "metadata": {},
   "source": [
    "### Number of elements in the dictionary and extracting `keys()`, `values()`, `items()`"
   ]
  },
  {
   "cell_type": "code",
   "execution_count": 32,
   "id": "f13bd3ba",
   "metadata": {},
   "outputs": [],
   "source": [
    "data={'Alabama': 'Montgomery',\n",
    "     'Arizona' : 'Pheonix',\n",
    "     'Georgia': 'Atlanta',\n",
    "     'Kentucky' : 'Frankfort',\n",
    "     'Ohio' : \"Salem\"}\n"
   ]
  },
  {
   "cell_type": "code",
   "execution_count": 33,
   "id": "1d31365f",
   "metadata": {},
   "outputs": [
    {
     "data": {
      "text/plain": [
       "5"
      ]
     },
     "execution_count": 33,
     "metadata": {},
     "output_type": "execute_result"
    }
   ],
   "source": [
    "#number pf elements/values in a dictionary\n",
    "len(data)"
   ]
  },
  {
   "cell_type": "code",
   "execution_count": 34,
   "id": "0db183c4",
   "metadata": {},
   "outputs": [
    {
     "name": "stdout",
     "output_type": "stream",
     "text": [
      "dict_keys(['Alabama', 'Arizona', 'Georgia', 'Kentucky', 'Ohio'])\n"
     ]
    }
   ],
   "source": [
    "#extract keys\n",
    "print(data.keys())"
   ]
  },
  {
   "cell_type": "code",
   "execution_count": 35,
   "id": "a1c19204",
   "metadata": {},
   "outputs": [
    {
     "name": "stdout",
     "output_type": "stream",
     "text": [
      "dict_values(['Montgomery', 'Pheonix', 'Atlanta', 'Frankfort', 'Salem'])\n"
     ]
    }
   ],
   "source": [
    "#extract value\n",
    "print(data.values())"
   ]
  },
  {
   "cell_type": "code",
   "execution_count": 38,
   "id": "b98974d5",
   "metadata": {},
   "outputs": [
    {
     "name": "stdout",
     "output_type": "stream",
     "text": [
      "dict_items([('Alabama', 'Montgomery'), ('Arizona', 'Pheonix'), ('Georgia', 'Atlanta'), ('Kentucky', 'Frankfort'), ('Ohio', 'Salem')])\n"
     ]
    },
    {
     "data": {
      "text/plain": [
       "dict_items"
      ]
     },
     "execution_count": 38,
     "metadata": {},
     "output_type": "execute_result"
    }
   ],
   "source": [
    "#item/key value pair\n",
    "print(data.items())\n",
    "type(data.items())"
   ]
  },
  {
   "cell_type": "markdown",
   "id": "ab9e78f2",
   "metadata": {},
   "source": [
    "### Loop through a dictionary"
   ]
  },
  {
   "cell_type": "code",
   "execution_count": 39,
   "id": "941bf04e",
   "metadata": {},
   "outputs": [
    {
     "data": {
      "text/plain": [
       "{'Alabama': 'Montgomery',\n",
       " 'Arizona': 'Pheonix',\n",
       " 'Georgia': 'Atlanta',\n",
       " 'Kentucky': 'Frankfort',\n",
       " 'Ohio': 'Salem'}"
      ]
     },
     "execution_count": 39,
     "metadata": {},
     "output_type": "execute_result"
    }
   ],
   "source": [
    "data"
   ]
  },
  {
   "cell_type": "code",
   "execution_count": 41,
   "id": "fe239e39",
   "metadata": {},
   "outputs": [
    {
     "name": "stdout",
     "output_type": "stream",
     "text": [
      "Alabama\n",
      "<class 'str'>\n",
      "Arizona\n",
      "<class 'str'>\n",
      "Georgia\n",
      "<class 'str'>\n",
      "Kentucky\n",
      "<class 'str'>\n",
      "Ohio\n",
      "<class 'str'>\n"
     ]
    }
   ],
   "source": [
    "#loop through dict keys\n",
    "for i in data.keys():#unpack dict items\n",
    "    print(i)\n",
    "    print(type(i))"
   ]
  },
  {
   "cell_type": "code",
   "execution_count": 43,
   "id": "c0746d46",
   "metadata": {},
   "outputs": [
    {
     "name": "stdout",
     "output_type": "stream",
     "text": [
      "The capital is:  Montgomery\n",
      "The capital is:  Pheonix\n",
      "The capital is:  Atlanta\n",
      "The capital is:  Frankfort\n",
      "The capital is:  Salem\n"
     ]
    }
   ],
   "source": [
    "#looping through the values\n",
    "for j in data.values():\n",
    "    print(\"The capital is: \",j)"
   ]
  },
  {
   "cell_type": "code",
   "execution_count": 45,
   "id": "e07995b1",
   "metadata": {},
   "outputs": [
    {
     "name": "stdout",
     "output_type": "stream",
     "text": [
      "('Alabama', 'Montgomery')\n",
      "<class 'tuple'>\n",
      "('Arizona', 'Pheonix')\n",
      "<class 'tuple'>\n",
      "('Georgia', 'Atlanta')\n",
      "<class 'tuple'>\n",
      "('Kentucky', 'Frankfort')\n",
      "<class 'tuple'>\n",
      "('Ohio', 'Salem')\n",
      "<class 'tuple'>\n"
     ]
    }
   ],
   "source": [
    "#looping through the item \n",
    "for k in data.items():\n",
    "    print(k)\n",
    "    print(type(k))"
   ]
  },
  {
   "cell_type": "code",
   "execution_count": 50,
   "id": "555fac13",
   "metadata": {},
   "outputs": [
    {
     "name": "stdout",
     "output_type": "stream",
     "text": [
      "State: Alabama - Capital: Montgomery\n",
      "<class 'str'> <class 'str'>\n",
      "State: Arizona - Capital: Pheonix\n",
      "<class 'str'> <class 'str'>\n",
      "State: Georgia - Capital: Atlanta\n",
      "<class 'str'> <class 'str'>\n",
      "State: Kentucky - Capital: Frankfort\n",
      "<class 'str'> <class 'str'>\n",
      "State: Ohio - Capital: Salem\n",
      "<class 'str'> <class 'str'>\n"
     ]
    }
   ],
   "source": [
    "#tuple unpacking\n",
    "for i,j in data.items():\n",
    "    print(\"State:\",i,\"-\", \"Capital:\",j)\n",
    "    print(type(i),type(j))"
   ]
  },
  {
   "cell_type": "code",
   "execution_count": null,
   "id": "8c22d209",
   "metadata": {},
   "outputs": [],
   "source": []
  },
  {
   "cell_type": "markdown",
   "id": "82ec7aff",
   "metadata": {},
   "source": [
    "### Convert dictionary to lists using `list()` function"
   ]
  },
  {
   "cell_type": "code",
   "execution_count": 51,
   "id": "afcede6e",
   "metadata": {},
   "outputs": [
    {
     "data": {
      "text/plain": [
       "{'Alabama': 'Montgomery',\n",
       " 'Arizona': 'Pheonix',\n",
       " 'Georgia': 'Atlanta',\n",
       " 'Kentucky': 'Frankfort',\n",
       " 'Ohio': 'Salem'}"
      ]
     },
     "execution_count": 51,
     "metadata": {},
     "output_type": "execute_result"
    }
   ],
   "source": [
    "data"
   ]
  },
  {
   "cell_type": "code",
   "execution_count": 52,
   "id": "b85f9771",
   "metadata": {},
   "outputs": [
    {
     "data": {
      "text/plain": [
       "['Montgomery', 'Pheonix', 'Atlanta', 'Frankfort', 'Salem']"
      ]
     },
     "execution_count": 52,
     "metadata": {},
     "output_type": "execute_result"
    }
   ],
   "source": [
    "list(data.values())"
   ]
  },
  {
   "cell_type": "code",
   "execution_count": 53,
   "id": "1513a1e3",
   "metadata": {},
   "outputs": [
    {
     "data": {
      "text/plain": [
       "('Alabama', 'Arizona', 'Georgia', 'Kentucky', 'Ohio')"
      ]
     },
     "execution_count": 53,
     "metadata": {},
     "output_type": "execute_result"
    }
   ],
   "source": [
    "tuple(data.keys())"
   ]
  },
  {
   "cell_type": "code",
   "execution_count": null,
   "id": "59ec3714",
   "metadata": {},
   "outputs": [],
   "source": []
  },
  {
   "cell_type": "markdown",
   "id": "d13131c6",
   "metadata": {},
   "source": [
    "### A List in a Dictionary"
   ]
  },
  {
   "cell_type": "code",
   "execution_count": 1,
   "id": "cd81cd95",
   "metadata": {},
   "outputs": [],
   "source": [
    "fav_language={\n",
    "    'Jen':['Python','Ruby'],\n",
    "    'Sarah':['C'],\n",
    "    'Edward':['Ruby','Java'],\n",
    "    'Phil':['Python','Haskell']\n",
    "}"
   ]
  },
  {
   "cell_type": "code",
   "execution_count": 4,
   "id": "1d594da7",
   "metadata": {},
   "outputs": [
    {
     "name": "stdout",
     "output_type": "stream",
     "text": [
      "\n",
      "Jen's favorite languages are:\n",
      "\t\t\tPython\n",
      "\t\t\tRuby\n",
      "\n",
      "Sarah's favorite languages are:\n",
      "\t\t\tC\n",
      "\n",
      "Edward's favorite languages are:\n",
      "\t\t\tRuby\n",
      "\t\t\tJava\n",
      "\n",
      "Phil's favorite languages are:\n",
      "\t\t\tPython\n",
      "\t\t\tHaskell\n"
     ]
    }
   ],
   "source": [
    "for name, languages in fav_language.items():\n",
    "    print('\\n'+name.title()+'\\'s favorite languages are:')\n",
    "    for i in languages:\n",
    "        print('\\t\\t\\t'+i.title())"
   ]
  },
  {
   "cell_type": "code",
   "execution_count": null,
   "id": "e9a96ec4",
   "metadata": {},
   "outputs": [],
   "source": []
  },
  {
   "cell_type": "code",
   "execution_count": null,
   "id": "9796242d",
   "metadata": {},
   "outputs": [],
   "source": []
  },
  {
   "cell_type": "markdown",
   "id": "7543bcaf",
   "metadata": {},
   "source": [
    "###  A Dictionary in a Dictionary"
   ]
  },
  {
   "cell_type": "code",
   "execution_count": 6,
   "id": "5716262d",
   "metadata": {},
   "outputs": [],
   "source": [
    "user={\n",
    "    'einstein':{\n",
    "        'first':'albert',\n",
    "        'last':'einstein',\n",
    "        'location':'princeton'\n",
    "    },\n",
    "    'mcurie':{\n",
    "        'first':'marie',\n",
    "        'last':'curie',\n",
    "        'location':'paris'\n",
    "    }\n",
    "}"
   ]
  },
  {
   "cell_type": "code",
   "execution_count": 7,
   "id": "7aaca1c4",
   "metadata": {},
   "outputs": [
    {
     "data": {
      "text/plain": [
       "{'einstein': {'first': 'albert', 'last': 'einstein', 'location': 'princeton'},\n",
       " 'mcurie': {'first': 'marie', 'last': 'curie', 'location': 'paris'}}"
      ]
     },
     "execution_count": 7,
     "metadata": {},
     "output_type": "execute_result"
    }
   ],
   "source": [
    "user"
   ]
  },
  {
   "cell_type": "code",
   "execution_count": 11,
   "id": "055f8531",
   "metadata": {},
   "outputs": [
    {
     "name": "stdout",
     "output_type": "stream",
     "text": [
      "\n",
      "User Name: einstein\n",
      "The full name is:Albert Einstein\n",
      "The location: Princeton\n",
      "\n",
      "User Name: mcurie\n",
      "The full name is:Marie Curie\n",
      "The location: Paris\n"
     ]
    }
   ],
   "source": [
    "for username,user_info in user.items():\n",
    "    print('\\nUser Name:', username)\n",
    "    fullname=user_info['first']+\" \"+user_info['last']\n",
    "    location=user_info['location']\n",
    "    \n",
    "    print('The full name is:'+ fullname.title())\n",
    "    print('The location:', location.title())"
   ]
  },
  {
   "cell_type": "code",
   "execution_count": null,
   "id": "df1df17e",
   "metadata": {},
   "outputs": [],
   "source": []
  },
  {
   "cell_type": "code",
   "execution_count": null,
   "id": "47a05528",
   "metadata": {},
   "outputs": [],
   "source": []
  },
  {
   "cell_type": "code",
   "execution_count": null,
   "id": "7482dad3",
   "metadata": {},
   "outputs": [],
   "source": []
  }
 ],
 "metadata": {
  "kernelspec": {
   "display_name": "Python 3 (ipykernel)",
   "language": "python",
   "name": "python3"
  },
  "language_info": {
   "codemirror_mode": {
    "name": "ipython",
    "version": 3
   },
   "file_extension": ".py",
   "mimetype": "text/x-python",
   "name": "python",
   "nbconvert_exporter": "python",
   "pygments_lexer": "ipython3",
   "version": "3.9.13"
  }
 },
 "nbformat": 4,
 "nbformat_minor": 5
}
